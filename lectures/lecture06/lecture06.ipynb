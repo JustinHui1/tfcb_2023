{
 "cells": [
  {
   "cell_type": "markdown",
   "metadata": {},
   "source": [
    "![logo](https://www.python.org/static/community_logos/python-logo-master-v3-TM.png)\n",
    "\n",
    "# Python is a powerful, expressive, and easy to learn programming language. It is widely used in computational biology. There are a wealth of packages (numpy, scipy, pandas, statsmodels, scikit-learn) for data analysis in python. So it's **totally** worth learning!\n",
    "\n",
    "[Official python tutorial](https://docs.python.org/3/tutorial/)\n",
    "\n",
    "\n",
    "As we work through this notebook, you might want to open up a second one for trying things out. You can also fiddle with the code here.\n",
    "\n",
    "Here are a few tips for working with notebooks:\n",
    "\n",
    "* There are two modes: *command mode* and *edit mode*. \n",
    "* In edit mode you can edit the contents of individual cells. The selected cell is typically marked by a colored border. \n",
    "* In command mode you can move up and down between cells, add and delete cells, switch a cell's *type* between code and markdown, etc. \n",
    "* To enter command mode, hit `Esc` (the Escape key).\n",
    "* to enter edit mode with the selected cell (the one with the blue border or bar on the left-hand side), hit `Enter`. The border color will change to green (viewed in a browser, or become blue in vscode).\n",
    "* To run (execute) a cell (or selected cells), type `Ctrl-Enter`. `Shift-Enter` will run the current cell and select the next one.\n",
    "* To see the other keyboard shortcuts, click on the `Help` menu.\n",
    "* If you get stuck executing an infinite loop, choose `Interrupt` from the `Kernel` menu. \n",
    "* If you are in command mode, hitting the `a` key will add a new cell above the currently selected cell; `b` will add a new cell below the current cell.\n"
   ]
  },
  {
   "cell_type": "markdown",
   "metadata": {},
   "source": [
    "# numeric types (int, float, complex)"
   ]
  },
  {
   "cell_type": "code",
   "execution_count": null,
   "metadata": {},
   "outputs": [],
   "source": [
    "# In python, everything on a given line that follows a # is a COMMENT\n",
    "#\n",
    "# create an integer variable called 'a' and assign it a value of 4\n",
    "a = 4\n",
    "\n",
    "# the output or result of the last command we type in a notebook cell will appear below the\n",
    "# cell when we execute it\n",
    "a"
   ]
  },
  {
   "cell_type": "markdown",
   "metadata": {},
   "source": [
    "**DIGRESSION on NAMES and OBJECTS**\n",
    "\n",
    "It's worth digging into this simple command `a = 4` a little more and learning some special\n",
    "python terms. What this command actually does is create an OBJECT of TYPE `int` (i.e., an integer)\n",
    "with the value of `4` and also a NAME (`a`) which points to the OBJECT.\n",
    "\n",
    "In python, objects exist and have individuality (they live somewhere in a specific place in the\n",
    "computer's memory). Multiple names can point to the same object. For simple objects like integers\n",
    "this doesn't matter so much, but we will see later that having two names referring ('pointing') to the\n",
    "same object can occasionally create confusion.\n",
    "\n",
    "It's OK to think of names as variables, if you are comfortable with the notion of a variable from\n",
    "another programming language or from math. As you become more proficient with python programming the\n",
    "NAME versus OBJECT distinction will be more important."
   ]
  },
  {
   "cell_type": "code",
   "execution_count": null,
   "metadata": {},
   "outputs": [],
   "source": [
    "# type is a python FUNCTION that will tell us the python type of an object\n",
    "#\n",
    "# FUNCTIONs are little snippets of previously defined python code that have a name\n",
    "# and can be executed by typing that name followed by parentheses. FUNCTIONs can\n",
    "# do stuff (like printing output) and also RETURN VALUES for us to use. FUNCTIONS\n",
    "# may take ARGUMENTS that are passed in to the function to control their behavior. \n",
    "# ARGUMENTS (like 'a' below) go inside the parentheses. We will see later how to \n",
    "# define our own functions.\n",
    "\n",
    "# (Like everything else in python, FUNCTIONs are actually just OBJECTs)\n",
    "#\n",
    "type(a)"
   ]
  },
  {
   "cell_type": "code",
   "execution_count": null,
   "metadata": {},
   "outputs": [],
   "source": [
    "a = 4\n",
    "a += 3 # += adds the value (or thing) on the right to the variable on the left; shorthand for \"a = a+3\"\n",
    "\n",
    "# print is a handy python FUNCTION that prints output to the terminal/notebook\n",
    "# Note that the output of print() appears in a different place from the last value in the cell\n",
    "# so we can have multiple outputs printed in a single cell\n",
    "print(a)\n",
    "\n",
    "# print can take multiple ARGUMENTS (things we pass in to FUNCTIONs to modify their behavior)\n",
    "# FUNCTION ARGUMENTS are separated by commas\n",
    "print('a+10 =', a+10)"
   ]
  },
  {
   "cell_type": "code",
   "execution_count": null,
   "metadata": {},
   "outputs": [],
   "source": [
    "# a decimal point tells python this is an object of type float\n",
    "b = 3.5\n",
    "type(b)"
   ]
  },
  {
   "cell_type": "code",
   "execution_count": null,
   "metadata": {},
   "outputs": [],
   "source": [
    "a/3 # In python 3, integer division returns floats rather than truncating"
   ]
  },
  {
   "cell_type": "code",
   "execution_count": null,
   "metadata": {},
   "outputs": [],
   "source": [
    "a//3 # this is what a/3 does in python2: the fractional part is discarded, so we always get an integer"
   ]
  },
  {
   "cell_type": "code",
   "execution_count": null,
   "metadata": {},
   "outputs": [],
   "source": [
    "## a % b gives the remainder from dividing a by b (aka modulus)\n",
    "a = 17\n",
    "b = 3\n",
    "print(a, 'divided by', b, 'is', a//b, 'remainder', a%b)"
   ]
  },
  {
   "cell_type": "code",
   "execution_count": null,
   "metadata": {},
   "outputs": [],
   "source": [
    "a=3\n",
    "b=0.1\n",
    "a+b # integer + float = float"
   ]
  },
  {
   "cell_type": "code",
   "execution_count": null,
   "metadata": {},
   "outputs": [],
   "source": [
    "c = 3 - 4j # we can do complex numbers, too. j is the special symbol for the square root of -1\n",
    "\n",
    "# abs() is a built-in python FUNCTION that works with all numeric types\n",
    "# abs of a complex number is the length of the hypotenuse when we plot the number in 2D,\n",
    "# that's why this comes out so nicely (3-4-5 triangle)\n",
    "print(c, 'absolute value of c=', abs(c))\n",
    "type(c)\n"
   ]
  },
  {
   "cell_type": "markdown",
   "metadata": {},
   "source": [
    "# bools and comparisons"
   ]
  },
  {
   "cell_type": "code",
   "execution_count": null,
   "metadata": {},
   "outputs": [],
   "source": [
    "# One equals sign for assignment, two for comparison\n",
    "a = 2\n",
    "b = 4\n",
    "a==b"
   ]
  },
  {
   "cell_type": "code",
   "execution_count": null,
   "metadata": {},
   "outputs": [],
   "source": [
    "c = ( a == b ) # we can store the result of a comparison in a variable of type 'bool'\n",
    "print(c)\n",
    "type(c)"
   ]
  },
  {
   "cell_type": "code",
   "execution_count": null,
   "metadata": {},
   "outputs": [],
   "source": [
    "print ( a > b )  # greater than\n",
    "print ( a <= b ) # less than OR equal to"
   ]
  },
  {
   "cell_type": "markdown",
   "metadata": {},
   "source": [
    "# `strings`"
   ]
  },
  {
   "cell_type": "code",
   "execution_count": null,
   "metadata": {},
   "outputs": [],
   "source": [
    "s = 'hello'\n",
    "s"
   ]
  },
  {
   "cell_type": "code",
   "execution_count": null,
   "metadata": {},
   "outputs": [],
   "source": [
    "# len is a SUPER IMPORTANT built-in python FUNCTION that tells us the length of OBJECTs like strings\n",
    "print(len(s))\n",
    "\n",
    "# strings have TYPE str\n",
    "type(s)"
   ]
  },
  {
   "cell_type": "code",
   "execution_count": null,
   "metadata": {},
   "outputs": [],
   "source": [
    "print (s) # print doesn't show the enclosing quotes"
   ]
  },
  {
   "cell_type": "code",
   "execution_count": null,
   "metadata": {},
   "outputs": [],
   "source": [
    "s = \"ain't isn't a word\" # double quotes work fine too and are useful for strings with single quotes\n",
    "print (s)"
   ]
  },
  {
   "cell_type": "code",
   "execution_count": null,
   "metadata": {},
   "outputs": [],
   "source": [
    "s = \"\\\"ain't\\\" isn't a word\" # we can use backslash to escape quotes \n",
    "print(s)\n"
   ]
  },
  {
   "cell_type": "code",
   "execution_count": null,
   "metadata": {},
   "outputs": [],
   "source": [
    "s = \"two-line\\nstring\" # \\n is a newline\n",
    "print (s)"
   ]
  },
  {
   "cell_type": "markdown",
   "metadata": {},
   "source": [
    "**OBJECTS CAN HAVE FUNCTIONS \"ATTACHED\" TO THEM**\n",
    "\n",
    "These special functions are called *methods*. To call a method, we use the '.' symbol\n",
    "after the object name, like: `object.method()`"
   ]
  },
  {
   "cell_type": "code",
   "execution_count": null,
   "metadata": {},
   "outputs": [],
   "source": [
    "# create a new string object with the text 'hi there', assign the name 's' to point to it\n",
    "s = 'hi there'\n",
    "\n",
    "# call the upper() method of s. It returns an all-upper-case version of s\n",
    "s.upper()"
   ]
  },
  {
   "cell_type": "markdown",
   "metadata": {},
   "source": [
    "**INDEXING**\n",
    "\n",
    "Access individual characters in a string using square braces ([]). **The numbering for indices starts at 0, not 1**. Negative indices count back from the end, with `-1` being the last element."
   ]
  },
  {
   "cell_type": "code",
   "execution_count": null,
   "metadata": {},
   "outputs": [],
   "source": [
    "s='rhino'\n",
    "print ('s[0]=',s[0]) # As we saw above, the print FUNCTION can take multiple ARGUMENTS separated by commas\n",
    "print('s[2]=', s[2]) # the python language doesn't care about spacing around and within the parentheses\n",
    "print('s[-2]=', s[-2]) # there are style suggestions here: https://www.python.org/dev/peps/pep-0008/\n",
    "print('s[-1]=', s[-1]) # spaces after commas make it more readable\n",
    "\n",
    "# indexing into a string returns a new string object containing the requested character\n",
    "type(s[1])"
   ]
  },
  {
   "cell_type": "markdown",
   "metadata": {},
   "source": [
    "**SLICING**\n",
    "\n",
    "Strings can be *sliced* to generate sub-strings, as shown in the next cell.\n",
    "Slicing can be applied to all sorts of python objects that are made of multiple\n",
    "individual elements (strings, lists, tuples, ...)"
   ]
  },
  {
   "cell_type": "code",
   "execution_count": null,
   "metadata": {},
   "outputs": [],
   "source": [
    "s='peter pan'\n",
    "print ( s[0:5] ) # 0 is the start; slice runs from first index up to but not including the second index\n",
    "print ( len( s[2:-1]) ) # len tells us the length of objects like strings\n",
    "print ( s[:5] ) # python assumes a missing first index is 0 (ie slice starts at the beginning)\n",
    "print ( s[6:] ) # a missing second index means go all the way to the end"
   ]
  },
  {
   "cell_type": "markdown",
   "metadata": {},
   "source": [
    "Strings can be *added* and *multiplied*"
   ]
  },
  {
   "cell_type": "code",
   "execution_count": null,
   "metadata": {},
   "outputs": [],
   "source": [
    "'hello'+' goodbye'"
   ]
  },
  {
   "cell_type": "code",
   "execution_count": null,
   "metadata": {},
   "outputs": [],
   "source": [
    "'whoah!'*3"
   ]
  },
  {
   "cell_type": "markdown",
   "metadata": {},
   "source": [
    "Strings are immutable, ie they can't be changed"
   ]
  },
  {
   "cell_type": "code",
   "execution_count": null,
   "metadata": {},
   "outputs": [],
   "source": [
    "s = 'hello'\n",
    "#s[0] = 'j' #this would give an error (try it)"
   ]
  },
  {
   "cell_type": "markdown",
   "metadata": {},
   "source": [
    "If you want to change a string, make a new one"
   ]
  },
  {
   "cell_type": "code",
   "execution_count": null,
   "metadata": {},
   "outputs": [],
   "source": [
    "s = 'hello'\n",
    "print(s)\n",
    "s  = 'j' + s[1:]\n",
    "print(s)"
   ]
  },
  {
   "cell_type": "markdown",
   "metadata": {},
   "source": [
    "### Converting between different types of objects.\n",
    "\n",
    "If we want to turn a string into an integer or vice versa, or more generally create an object of one type from an object of another, we can use the name of the desired TYPE as a FUNCTION and pass it the OBJECT of the other TYPE, and it will return a new OBJECT of the desired TYPE. Which sounds kind of complicated but is actually pretty simple:"
   ]
  },
  {
   "cell_type": "code",
   "execution_count": null,
   "metadata": {},
   "outputs": [],
   "source": [
    "# create integer object \n",
    "a = 4\n",
    "\n",
    "# create string from 'a' -- see how this looks like we are calling a function called \"str\"\n",
    "b = str(a)\n",
    "\n",
    "b"
   ]
  },
  {
   "cell_type": "code",
   "execution_count": null,
   "metadata": {},
   "outputs": [],
   "source": [
    "# create string object \n",
    "a = '57'\n",
    "\n",
    "# create integer from 'a' -- looks like we are calling the 'int' function\n",
    "b = int(a)\n",
    "\n",
    "b"
   ]
  },
  {
   "cell_type": "markdown",
   "metadata": {},
   "source": [
    "### fstrings\n",
    "\n",
    "python3 gave us a SUPER convenient way of creating nicely formatted strings from other objects called `f-strings`. You don't need to know the details but it's helpful to know that `f-strings` exist."
   ]
  },
  {
   "cell_type": "code",
   "execution_count": null,
   "metadata": {},
   "outputs": [],
   "source": [
    "# f-strings start with an f before the quotes, and contain {} expressions that are replaced with variables\n",
    "#  or other strings. The {} expressions can contain a ':' that is followed by cryptic instructions for\n",
    "#  how python should format the thing before the ':'\n",
    "\n",
    "name = 'Phil'\n",
    "age = 29\n",
    "\n",
    "message = f'My name is {name}, and I am {age} years old.' # yeah right\n",
    "message"
   ]
  },
  {
   "cell_type": "code",
   "execution_count": null,
   "metadata": {},
   "outputs": [],
   "source": [
    "# f-strings are useful for formatting numeric values nicely, among many other things\n",
    "# here the :5d tells python to make the length 5, by padding with whitespace if necessary\n",
    "# and :9.2e says use scientific notation (e) with total length of 9 and 2 digits after the \n",
    "# decimal point\n",
    "#\n",
    "p_value = 0.000003545\n",
    "num_trials = 154\n",
    "print(f'number of trials: {num_trials:5d} P-value: {p_value:9.2e}')\n",
    "\n",
    "p_value = 0.000243\n",
    "num_trials = 12\n",
    "print(f'number of trials: {num_trials:5d} P-value: {p_value:9.2e}')\n",
    "\n",
    "p_value = 1.7456e-20\n",
    "num_trials = 12043\n",
    "print(f'number of trials: {num_trials:5d} P-value: {p_value:9.2e}')"
   ]
  },
  {
   "cell_type": "markdown",
   "metadata": {},
   "source": [
    "# Practice time"
   ]
  },
  {
   "cell_type": "code",
   "execution_count": null,
   "metadata": {},
   "outputs": [],
   "source": [
    "# In one line, create the string 'elephant' by combining slices from the two strings a and b below \n",
    "# Try doing it two different ways, once with and once without negative indices\n",
    "\n",
    "a = 'telephone'\n",
    "b = 'santa'\n",
    "#c = ?"
   ]
  },
  {
   "cell_type": "code",
   "execution_count": null,
   "metadata": {},
   "outputs": [],
   "source": [
    "# In one line, create a boolean variable that will be True if the dna sequence below \n",
    "#  preserves the reading frame when inserted into a transcript\n",
    "#\n",
    "# Use the function len() which returns the length of a string. ie, len('hello') returns the integer 5,\n",
    "#  as well as the % operator introduced above.\n",
    "#\n",
    "dna_seq = 'TTATACGCGACTATCATATCGCCAGCCTTTGGAGTGTCAC'\n",
    "\n",
    "#in_frame = ?\n"
   ]
  },
  {
   "cell_type": "markdown",
   "metadata": {},
   "source": [
    "# `lists`"
   ]
  },
  {
   "cell_type": "code",
   "execution_count": null,
   "metadata": {},
   "outputs": [],
   "source": [
    "# I am in the habit of using the name 'l' for lists.\n",
    "# unfortunately an 'l' looks a lot like a '1' -- apologies in advance!\n",
    "#\n",
    "l = [1,2,3,4]\n",
    "print (l)"
   ]
  },
  {
   "cell_type": "markdown",
   "metadata": {},
   "source": [
    "Like strings, lists are python objects that have some useful *methods* (functions attached to objects). To see these methods interactively, try creating a list called `l` and typing `l.` and then pressing tab.\n",
    "\n",
    "By doing so you will see, for example, that `l` has a method called `append` which will add things to the end of the list:"
   ]
  },
  {
   "cell_type": "code",
   "execution_count": null,
   "metadata": {},
   "outputs": [],
   "source": [
    "# This shows that lists, unlike strings, are MUTABLE OBJECTS, which means that their contents\n",
    "# can be modified during the lifetime of the object\n",
    "#\n",
    "l.append( 5 )\n",
    "l"
   ]
  },
  {
   "cell_type": "markdown",
   "metadata": {},
   "source": [
    "You can get information about a function or object in the notebook by typing `<name>?` and running the cell. For example, try typing `l.append?` and pressing control+enter. This will work for functions you write in the future too, provided you write a little help message called a *docstring* at the beginning (more on this later)."
   ]
  },
  {
   "cell_type": "code",
   "execution_count": null,
   "metadata": {},
   "outputs": [],
   "source": [
    "l.append?\n"
   ]
  },
  {
   "cell_type": "markdown",
   "metadata": {},
   "source": [
    "Note that you can also use tab-completion: `l.appe[TAB]` will complete to `l.append`"
   ]
  },
  {
   "cell_type": "markdown",
   "metadata": {},
   "source": [
    "Lists can contain a mixture of types:"
   ]
  },
  {
   "cell_type": "code",
   "execution_count": null,
   "metadata": {},
   "outputs": [],
   "source": [
    "l = [1,2,3,4,5]\n",
    "l.append( 'horse') # like strings\n",
    "print(l)\n",
    "l.append( [11,13,15] ) # or even other lists\n",
    "print(l)"
   ]
  },
  {
   "cell_type": "markdown",
   "metadata": {},
   "source": [
    "Indexing works pretty much the same for lists as for strings (but note that you *can* change elements of a list):"
   ]
  },
  {
   "cell_type": "code",
   "execution_count": null,
   "metadata": {},
   "outputs": [],
   "source": [
    "print('l[0]=',l[0])\n",
    "print('l[-1]=',l[-1])\n",
    "l[2] = 'pony'\n",
    "print('now, l=',l)"
   ]
  },
  {
   "cell_type": "markdown",
   "metadata": {},
   "source": [
    "Another very useful list method is `sort`"
   ]
  },
  {
   "cell_type": "code",
   "execution_count": null,
   "metadata": {},
   "outputs": [],
   "source": [
    "l = [3,2,11,5,10,-15]\n",
    "l.sort()\n",
    "print(l)"
   ]
  },
  {
   "cell_type": "markdown",
   "metadata": {},
   "source": [
    "A useful `string` method is `split` -- it returns a `list` of strings generated by splitting the initial string, by default on whitespace but we can ask it to split on any string"
   ]
  },
  {
   "cell_type": "code",
   "execution_count": null,
   "metadata": {},
   "outputs": [],
   "source": [
    "s = 'hi   there tim' # note multiple spaces between hi and there\n",
    "print(s.split()) # no whitespace in the output strings\n",
    "\n",
    "filename = '/Users/pbradley/gitrepos/tfcb_2021/lectures/lecture06/lecture06.pynb'\n",
    "print(filename.split('/'))\n",
    "\n",
    "shortname = filename.split('/')[-1]\n",
    "print(shortname)\n"
   ]
  },
  {
   "cell_type": "code",
   "execution_count": null,
   "metadata": {},
   "outputs": [],
   "source": [
    "# the string join method is like the opposite of split\n",
    "\n",
    "sep = '/'\n",
    "filename_pieces = ['', 'Users', 'pbradley', 'Documents', 'boring.docx']\n",
    "print(sep.join(filename_pieces))\n",
    "\n",
    "#or \n",
    "print('/'.join(filename_pieces))\n"
   ]
  },
  {
   "cell_type": "markdown",
   "metadata": {},
   "source": [
    "## Danger\n",
    "\n",
    "Assignment (e.g., setting `x=y`) doesn't generally make a new copy of the object that `y` points to. Use slicing (`x=y[:]`) or explicit creation of a new object with the object typename (e.g. `x=list(y)`) to create a copy."
   ]
  },
  {
   "cell_type": "code",
   "execution_count": null,
   "metadata": {},
   "outputs": [],
   "source": [
    "# create a new object of type list with the contents [1,2,3,4,5] and assign the name 'a' to point to it\n",
    "a = [1,2,3,4,5]\n",
    "print('a=',a)\n",
    "b = a # create a new name 'b' and point it at the same object that a points to\n",
    "b[0] = 1000\n",
    "print('b=',b)\n",
    "print('a=',a) # a was changed, too"
   ]
  },
  {
   "cell_type": "code",
   "execution_count": null,
   "metadata": {},
   "outputs": [],
   "source": [
    "c = a[:] # slicing a list makes a copy\n",
    "c[0] = 0\n",
    "print('c=',c)\n",
    "print('a=',a) # a still the same as before we modified c\n",
    "\n",
    "d = list(a)\n",
    "d[0] = -1\n",
    "print('d=',d)\n",
    "print('a=',a) # a still the same as before we modified d"
   ]
  },
  {
   "cell_type": "markdown",
   "metadata": {},
   "source": [
    "# `dictionaries`\n",
    "Python provides an associative mapping object called a *dictionary* to easily hold key-value pairs. The type name is `dict`"
   ]
  },
  {
   "cell_type": "code",
   "execution_count": null,
   "metadata": {},
   "outputs": [],
   "source": [
    "# we define dictionaries with curly braces {}\n",
    "base_partner = {'A':'T', 'T':'A', 'C':'G', 'G':'C'}\n",
    "\n",
    "# we look up the values for keys using square braces []\n",
    "print('A pairs with:', base_partner['A'])\n",
    "\n",
    "# trying to look up a key that's not already in the dictionary gives an error\n",
    "#base_partner['X']\n",
    "\n",
    "# we can assign new key,value pairs using [] notation:\n",
    "base_partner['N'] = 'N'\n",
    "\n",
    "print('base_partner=', base_partner)\n",
    "type(base_partner)"
   ]
  },
  {
   "cell_type": "markdown",
   "metadata": {},
   "source": [
    "# the `in` keyword\n",
    "\n",
    "Python provides a handy way of checking whether something \"is contained in\" something else: the `in` keyword. It works with lots of different types: strings, lists, dictionaries, ... As with len(), indexing, and slicing, it's easy to make your new special python class behave nicely with `in` as well. "
   ]
  },
  {
   "cell_type": "code",
   "execution_count": 1,
   "metadata": {},
   "outputs": [
    {
     "name": "stdout",
     "output_type": "stream",
     "text": [
      "True\n",
      "False\n",
      "True\n"
     ]
    }
   ],
   "source": [
    "# for strings, \"a in b\" checks if a is a substring of b \n",
    "s = 'ACTGATCGTA'\n",
    "print('G' in s)\n",
    "print('X' in s)\n",
    "print('TGA' in s)"
   ]
  },
  {
   "cell_type": "code",
   "execution_count": 2,
   "metadata": {},
   "outputs": [
    {
     "name": "stdout",
     "output_type": "stream",
     "text": [
      "True\n",
      "False\n"
     ]
    }
   ],
   "source": [
    "# for lists, \"a in b\" checks if a is an element of b \n",
    "alist = [1,3,6]\n",
    "print(1 in alist)\n",
    "print(7 in alist)\n"
   ]
  },
  {
   "cell_type": "code",
   "execution_count": null,
   "metadata": {},
   "outputs": [],
   "source": [
    "# for dictionaries, \"a in b\" checks if a is one of the keys of b\n",
    "d = {'a':1, 'b':2, 'c':3}\n",
    "print('a' in d)\n",
    "print(2 in d)\n"
   ]
  },
  {
   "cell_type": "markdown",
   "metadata": {},
   "source": [
    "# Practice time"
   ]
  },
  {
   "cell_type": "code",
   "execution_count": 6,
   "metadata": {},
   "outputs": [
    {
     "data": {
      "text/plain": [
       "['__add__',\n",
       " '__class__',\n",
       " '__class_getitem__',\n",
       " '__contains__',\n",
       " '__delattr__',\n",
       " '__delitem__',\n",
       " '__dir__',\n",
       " '__doc__',\n",
       " '__eq__',\n",
       " '__format__',\n",
       " '__ge__',\n",
       " '__getattribute__',\n",
       " '__getitem__',\n",
       " '__gt__',\n",
       " '__hash__',\n",
       " '__iadd__',\n",
       " '__imul__',\n",
       " '__init__',\n",
       " '__init_subclass__',\n",
       " '__iter__',\n",
       " '__le__',\n",
       " '__len__',\n",
       " '__lt__',\n",
       " '__mul__',\n",
       " '__ne__',\n",
       " '__new__',\n",
       " '__reduce__',\n",
       " '__reduce_ex__',\n",
       " '__repr__',\n",
       " '__reversed__',\n",
       " '__rmul__',\n",
       " '__setattr__',\n",
       " '__setitem__',\n",
       " '__sizeof__',\n",
       " '__str__',\n",
       " '__subclasshook__',\n",
       " 'append',\n",
       " 'clear',\n",
       " 'copy',\n",
       " 'count',\n",
       " 'extend',\n",
       " 'index',\n",
       " 'insert',\n",
       " 'pop',\n",
       " 'remove',\n",
       " 'reverse',\n",
       " 'sort']"
      ]
     },
     "execution_count": 6,
     "metadata": {},
     "output_type": "execute_result"
    }
   ],
   "source": [
    "# How many methods like \"append\" does a list have? Create a list and type l.[TAB] and count how many there are. \n",
    "\n",
    "#ans=?\n",
    "l=[4,5]\n",
    "dir(l)"
   ]
  },
  {
   "cell_type": "code",
   "execution_count": 9,
   "metadata": {},
   "outputs": [
    {
     "data": {
      "text/plain": [
       "'asdasf'"
      ]
     },
     "execution_count": 9,
     "metadata": {},
     "output_type": "execute_result"
    }
   ],
   "source": [
    "# Can you find the string method that returns a lower-case copy of the string?\n",
    "#\n",
    "# Again, you can define a string s and then type s.[TAB] to see the method names.\n",
    "# IMPORTANT: Note that this method does not change the starting string. strings are 'immutable' so their\n",
    "# methods will not change them, rather they return new copies. \n",
    "#\n",
    "# This is different from how many of the list methods behave.\n",
    "s = 'ASDASF'\n",
    "s.lower()\n"
   ]
  },
  {
   "cell_type": "code",
   "execution_count": null,
   "metadata": {},
   "outputs": [],
   "source": [
    "# What is the difference between list.append() and list.extend()?\n",
    "# First read the help messages for each using, for example, l.append?[CTRL+ENTER]\n",
    "# Then use trial and error by appending / extending different things onto a list and seeing what happens. \n",
    "# Does extend work with all input types?\n",
    "#"
   ]
  },
  {
   "cell_type": "code",
   "execution_count": null,
   "metadata": {},
   "outputs": [],
   "source": [
    "# Create a new list called l2 which has the same elements as the list l1 below but in decreasing\n",
    "#  order, using two list methods: one we've talked about and one we haven't\n",
    "#\n",
    "# Don't change l1 in the process! This will take a couple lines.\n",
    "\n",
    "l1 = [5, 1, 1, 13, 9, 3, 18, 15, 10, 8, 15, 7, 15, 10, 1, 13, 4, 15, 18, 9, 7, 3, 19, 8, 0, 14, 11, 0, 15, 16]\n",
    "\n",
    "#l2 = ... #\n"
   ]
  },
  {
   "cell_type": "markdown",
   "metadata": {},
   "source": [
    "## OPTIONAL DIGRESSION: object introspection\n",
    "\n",
    "In programming, introspection refers to the ability to investigate the type and/or other properties of objects at runtime. Remember that just about everything in python is an object! Two useful functions for introspection are `dir` and `id`.\n",
    "\n",
    "`dir` shows all the methods (built-in functions) and attributes (accessible internal data) of an object.\n",
    "\n",
    "`id` returns a unique identifier for the given object (for example, the location in memory where it is stored). No two objects will have the same `id`. `id` can be useful for figuring out whether two names point to the same underlying object.\n"
   ]
  },
  {
   "cell_type": "code",
   "execution_count": null,
   "metadata": {},
   "outputs": [],
   "source": [
    "# create list\n",
    "l = [1,2]\n",
    "\n",
    "# show attributes and methods of l\n",
    "print(dir(l))"
   ]
  },
  {
   "cell_type": "code",
   "execution_count": 10,
   "metadata": {},
   "outputs": [
    {
     "name": "stdout",
     "output_type": "stream",
     "text": [
      "id(a)= 140385485692096\n",
      "id(b)= 140385485692096\n",
      "a and b point to the same object: True\n"
     ]
    }
   ],
   "source": [
    "a = [4,5,6]\n",
    "b = a # did we make a copy or not??\n",
    "b.append(3)\n",
    "\n",
    "print('id(a)=', id(a))\n",
    "print('id(b)=', id(b))\n",
    "\n",
    "# here we store the result of a comparison (checking whether two things are equal) in a boolean variable (ie, object)\n",
    "the_same = id(a) == id(b)\n",
    "print('a and b point to the same object:', the_same)\n"
   ]
  },
  {
   "cell_type": "markdown",
   "metadata": {},
   "source": [
    "# flow of control: `for` loops\n",
    "Python `for` loops let you repeat a block of code while changing the value of a LOOPING VARIABLE. The code to be repeated is INDENTED. This is a really important and distinctive thing about python: the formatting of the code, specifically the level of indenting, actually affects the syntax. Some people hate this. Some people love it. I like it and think it makes code more readable. But it takes some getting used to if you are coming from other languages like C/C++, java, etc. "
   ]
  },
  {
   "cell_type": "code",
   "execution_count": 11,
   "metadata": {},
   "outputs": [
    {
     "name": "stdout",
     "output_type": "stream",
     "text": [
      "A dog is a great pet, if you happen to like pets.\n",
      "A cat is a great pet, if you happen to like pets.\n",
      "A goldfish is a great pet, if you happen to like pets.\n",
      "Those are the only pets I know.\n"
     ]
    }
   ],
   "source": [
    "# a simple for-loop over the elements of the list\n",
    "\n",
    "pets = ['dog', 'cat', 'goldfish']\n",
    "\n",
    "# Below, 'pet' is the looping variable (name)\n",
    "# it is equal to each of the elements of the list, in turn. First 'dog', then 'cat', then 'goldfish'\n",
    "# In other words, the first time through the loop, pet is a name that points to the first object in the list\n",
    "# the second time through the loop, pet points to the second object in the list. And so on.\n",
    "#\n",
    "for pet in pets:\n",
    "    print('A', pet, 'is a great pet, if you happen to like pets.')\n",
    "print('Those are the only pets I know.') # this only gets printed at the end; try indenting it and re-running...\n"
   ]
  },
  {
   "cell_type": "code",
   "execution_count": 12,
   "metadata": {},
   "outputs": [
    {
     "data": {
      "text/plain": [
       "[0, 1, 2, 3, 4]"
      ]
     },
     "execution_count": 12,
     "metadata": {},
     "output_type": "execute_result"
    }
   ],
   "source": [
    "#  range(num) gives us a loop from 0 to num-1\n",
    "#  It's kind of like having a list of numbers running from 0 to num-1 (but not exactly the same)\n",
    "\n",
    "range(5)\n",
    "list(range(5))"
   ]
  },
  {
   "cell_type": "code",
   "execution_count": 13,
   "metadata": {},
   "outputs": [
    {
     "name": "stdout",
     "output_type": "stream",
     "text": [
      "\u001b[0;31mInit signature:\u001b[0m \u001b[0mrange\u001b[0m\u001b[0;34m(\u001b[0m\u001b[0mself\u001b[0m\u001b[0;34m,\u001b[0m \u001b[0;34m/\u001b[0m\u001b[0;34m,\u001b[0m \u001b[0;34m*\u001b[0m\u001b[0margs\u001b[0m\u001b[0;34m,\u001b[0m \u001b[0;34m**\u001b[0m\u001b[0mkwargs\u001b[0m\u001b[0;34m)\u001b[0m\u001b[0;34m\u001b[0m\u001b[0;34m\u001b[0m\u001b[0m\n",
      "\u001b[0;31mDocstring:\u001b[0m     \n",
      "range(stop) -> range object\n",
      "range(start, stop[, step]) -> range object\n",
      "\n",
      "Return an object that produces a sequence of integers from start (inclusive)\n",
      "to stop (exclusive) by step.  range(i, j) produces i, i+1, i+2, ..., j-1.\n",
      "start defaults to 0, and stop is omitted!  range(4) produces 0, 1, 2, 3.\n",
      "These are exactly the valid indices for a list of 4 elements.\n",
      "When step is given, it specifies the increment (or decrement).\n",
      "\u001b[0;31mType:\u001b[0m           type\n",
      "\u001b[0;31mSubclasses:\u001b[0m     \n"
     ]
    }
   ],
   "source": [
    "range?"
   ]
  },
  {
   "cell_type": "code",
   "execution_count": 14,
   "metadata": {},
   "outputs": [
    {
     "name": "stdout",
     "output_type": "stream",
     "text": [
      "2 to the 0 power= 1\n",
      "2 to the 1 power= 2\n",
      "2 to the 2 power= 4\n",
      "2 to the 3 power= 8\n",
      "2 to the 4 power= 16\n",
      "2 to the 5 power= 32\n",
      "2 to the 6 power= 64\n",
      "2 to the 7 power= 128\n",
      "2 to the 8 power= 256\n",
      "2 to the 9 power= 512\n",
      "At the end, product= 1024\n"
     ]
    }
   ],
   "source": [
    "product = 1\n",
    "\n",
    "## here i is the looping variable (name) that has a different value each time through the loop\n",
    "## \n",
    "for i in range(10):\n",
    "    print('2 to the', i, 'power=',product)\n",
    "    product *= 2\n",
    "    \n",
    "print('At the end, product=', product)\n",
    "    "
   ]
  },
  {
   "cell_type": "markdown",
   "metadata": {},
   "source": [
    "## `for` is an incredibly versatile statement: you can loop over almost any kind of object that has multiple items or components\n"
   ]
  },
  {
   "cell_type": "code",
   "execution_count": null,
   "metadata": {},
   "outputs": [],
   "source": [
    "# we can loop over the letters in a string\n",
    "s = 'string'\n",
    "for a in s:\n",
    "    print(a) #try using the optional end= argument"
   ]
  },
  {
   "cell_type": "code",
   "execution_count": 15,
   "metadata": {},
   "outputs": [
    {
     "name": "stdout",
     "output_type": "stream",
     "text": [
      "A pairs with T\n",
      "T pairs with A\n",
      "C pairs with G\n",
      "G pairs with C\n"
     ]
    }
   ],
   "source": [
    "# we can loop over the keys of a dictionary\n",
    "base_partner = {'A':'T', 'T':'A', 'C':'G', 'G':'C'}\n",
    "\n",
    "for a in base_partner:\n",
    "    print( a, 'pairs with', base_partner[a] )"
   ]
  },
  {
   "cell_type": "code",
   "execution_count": 16,
   "metadata": {},
   "outputs": [
    {
     "name": "stdout",
     "output_type": "stream",
     "text": [
      "The 0 word is the\n",
      "The 1 word is quick\n",
      "The 2 word is brown\n",
      "The 3 word is fox\n",
      "The 4 word is jumps\n",
      "The 5 word is over\n",
      "The 6 word is the\n",
      "The 7 word is lazy\n",
      "The 8 word is dog\n",
      "\n",
      "Again,\n",
      "The 0 word is the\n",
      "The 1 word is quick\n",
      "The 2 word is brown\n",
      "The 3 word is fox\n",
      "The 4 word is jumps\n",
      "The 5 word is over\n",
      "The 6 word is the\n",
      "The 7 word is lazy\n",
      "The 8 word is dog\n"
     ]
    }
   ],
   "source": [
    "# we can loop over the elements of a list\n",
    "words = 'the quick brown fox jumps over the lazy dog'.split() # create a list by splitting a string\n",
    "\n",
    "counter=0\n",
    "# we can loop over the elements in a  list\n",
    "for word in words:\n",
    "    print('The',counter,'word is',word)\n",
    "    counter +=1\n",
    "    \n",
    "# we can loop over a range of numbers\n",
    "print('\\nAgain,') # using \\n to add some space\n",
    "for i in range(len(words)):\n",
    "    print('The',i,'word is',words[i])"
   ]
  },
  {
   "cell_type": "markdown",
   "metadata": {},
   "source": [
    "# `if` statements"
   ]
  },
  {
   "cell_type": "code",
   "execution_count": null,
   "metadata": {},
   "outputs": [],
   "source": [
    "# if statements let you choose between two (or more) outcomes based on a boolean expression \n",
    "#\n",
    "for i in range(10):\n",
    "    if i%2==0:\n",
    "        print(i,'is even')\n",
    "    else:\n",
    "        print(i,'is odd')"
   ]
  },
  {
   "cell_type": "code",
   "execution_count": null,
   "metadata": {},
   "outputs": [],
   "source": [
    "# if statements let you choose between two (or more) outcomes based on a boolean expression \n",
    "#\n",
    "# Notice what happens for 6:\n",
    "#\n",
    "\n",
    "for i in range(10):\n",
    "    if i%2==0:\n",
    "        print(i,'is even')\n",
    "    elif i%3==0:\n",
    "        print(i,'is divisible by 3')\n",
    "    else:\n",
    "        print(i,'is not')\n"
   ]
  },
  {
   "cell_type": "markdown",
   "metadata": {},
   "source": [
    "## the `break` statement gets us out of a loop, while `continue` jumps directly to the next cycle through."
   ]
  },
  {
   "cell_type": "code",
   "execution_count": 17,
   "metadata": {},
   "outputs": [
    {
     "name": "stdout",
     "output_type": "stream",
     "text": [
      "3 to the 0 power= 1\n",
      "3 to the 1 power= 3\n",
      "3 to the 2 power= 9\n",
      "3 to the 3 power= 27\n",
      "3 to the 4 power= 81\n",
      "3 to the 5 power= 243\n",
      "3 to the 6 power= 729\n",
      "3 to the 8 power= 6561\n",
      "3 to the 9 power= 19683\n"
     ]
    }
   ],
   "source": [
    "for i in range(1000):\n",
    "    if i == 7:\n",
    "        continue # 7 is a bad number\n",
    "\n",
    "    print('3 to the',i,'power=',3**i)\n",
    "    \n",
    "    if i >= 9: # we don't actually want that much output\n",
    "        break"
   ]
  },
  {
   "cell_type": "markdown",
   "metadata": {},
   "source": [
    "# `while` loops\n",
    "\n",
    "`while` loops repeat a block of indented code as long as a boolean expression evaluates to `True`"
   ]
  },
  {
   "cell_type": "code",
   "execution_count": null,
   "metadata": {},
   "outputs": [],
   "source": [
    "# SUPER-HANDY TIP:\n",
    "# you can assign two (or more) variables at the same time. This is called 'unpacking' in python.\n",
    "a, b = 0, 1\n",
    "\n",
    "# generate the fibonacci sequence\n",
    "while a<1000:\n",
    "    print('a=',a)\n",
    "    # Here unpacking saves us from having to use a temporary variable\n",
    "    a, b = b, a+b"
   ]
  },
  {
   "cell_type": "markdown",
   "metadata": {},
   "source": [
    "# Practice time"
   ]
  },
  {
   "cell_type": "code",
   "execution_count": 20,
   "metadata": {},
   "outputs": [
    {
     "name": "stdout",
     "output_type": "stream",
     "text": [
      "The following numbers are even numbers [0, 2, 4, 6, 8, 10, 12, 14, 16, 18, 20, 22, 24, 26, 28, 30, 32, 34, 36, 38, 40, 42, 44, 46, 48, 50, 52, 54, 56, 58, 60, 62, 64, 66, 68, 70, 72, 74, 76, 78, 80, 82, 84, 86, 88, 90, 92, 94, 96, 98]\n",
      "The following numbers are even numbers [0, 2, 4, 6, 8, 10, 12, 14, 16, 18, 20, 22, 24, 26, 28, 30, 32, 34, 36, 38, 40, 42, 44, 46, 48, 50, 52, 54, 56, 58, 60, 62, 64, 66, 68, 70, 72, 74, 76, 78, 80, 82, 84, 86, 88, 90, 92, 94, 96, 98]\n"
     ]
    }
   ],
   "source": [
    "# Write a little program to generate the list of all the even, non-negative integers less than 100.\n",
    "#\n",
    "# Do this two ways,\n",
    "#  1) by using if, %, and append inside a for loop up to 100\n",
    "#  2) just by using append and a shorter loop (even numbers are all multiples of...)\n",
    "#\n",
    "p = []\n",
    "for i in range(100):\n",
    "\tif i%2==0:\n",
    "\t\tp.append(i)\n",
    "print(f'The following numbers are even numbers {p}')\n",
    "\n",
    "\n",
    "p = []\n",
    "for i in range(50):\n",
    "\tp.append(2*i)\n",
    "print(f'The following numbers are even numbers {p}')"
   ]
  },
  {
   "cell_type": "code",
   "execution_count": 29,
   "metadata": {},
   "outputs": [
    {
     "name": "stdout",
     "output_type": "stream",
     "text": [
      "TTATACGCGACTATCATATCGCCAGCCTTTGGAGTGTCAC\n",
      "GTGACACTCCAAAGGCTGGCGATATGATAGTCGCGTATAA\n"
     ]
    }
   ],
   "source": [
    "# Write a little program to generate the reverse complement of the following nucleotide sequence\n",
    "# Recall that A pairs with T and C pairs with G\n",
    "# \n",
    "\n",
    "forward_dna_seq = 'TTATACGCGACTATCATATCGCCAGCCTTTGGAGTGTCAC'\n",
    "reverse_dna_seq = ''\n",
    "for i in forward_dna_seq:\n",
    "    reverse_dna_seq = base_partner[i]+reverse_dna_seq\n",
    "\n",
    "print(forward_dna_seq)\n",
    "print(reverse_dna_seq)\n"
   ]
  },
  {
   "cell_type": "code",
   "execution_count": 67,
   "metadata": {},
   "outputs": [
    {
     "name": "stdout",
     "output_type": "stream",
     "text": [
      "3 % 2\n",
      "3 % 2 -> 3 is prime\n",
      "4 % 2\n",
      "5 % 2\n",
      "5 % 2 -> 5 is prime\n",
      "5 % 3\n",
      "5 % 4\n",
      "6 % 2\n",
      "7 % 2\n",
      "7 % 2 -> 7 is prime\n",
      "7 % 3\n",
      "7 % 4\n",
      "7 % 5\n",
      "7 % 6\n",
      "8 % 2\n",
      "9 % 2\n",
      "9 % 2 -> 9 is prime\n",
      "9 % 3\n",
      "jk 9 is not prime\n",
      "10 % 2\n",
      "11 % 2\n",
      "11 % 2 -> 11 is prime\n",
      "11 % 3\n",
      "11 % 4\n",
      "11 % 5\n",
      "11 % 6\n",
      "11 % 7\n",
      "11 % 8\n",
      "11 % 9\n",
      "11 % 10\n",
      "12 % 2\n",
      "13 % 2\n",
      "13 % 2 -> 13 is prime\n",
      "13 % 3\n",
      "13 % 4\n",
      "13 % 5\n",
      "13 % 6\n",
      "13 % 7\n",
      "13 % 8\n",
      "13 % 9\n",
      "13 % 10\n",
      "13 % 11\n",
      "13 % 12\n",
      "14 % 2\n",
      "15 % 2\n",
      "15 % 2 -> 15 is prime\n",
      "15 % 3\n",
      "jk 15 is not prime\n",
      "16 % 2\n",
      "17 % 2\n",
      "17 % 2 -> 17 is prime\n",
      "17 % 3\n",
      "17 % 4\n",
      "17 % 5\n",
      "17 % 6\n",
      "17 % 7\n",
      "17 % 8\n",
      "17 % 9\n",
      "17 % 10\n",
      "17 % 11\n",
      "17 % 12\n",
      "17 % 13\n",
      "17 % 14\n",
      "17 % 15\n",
      "17 % 16\n",
      "18 % 2\n",
      "19 % 2\n",
      "19 % 2 -> 19 is prime\n",
      "19 % 3\n",
      "19 % 4\n",
      "19 % 5\n",
      "19 % 6\n",
      "19 % 7\n",
      "19 % 8\n",
      "19 % 9\n",
      "19 % 10\n",
      "19 % 11\n",
      "19 % 12\n",
      "19 % 13\n",
      "19 % 14\n",
      "19 % 15\n",
      "19 % 16\n",
      "19 % 17\n",
      "19 % 18\n",
      "20 % 2\n",
      "21 % 2\n",
      "21 % 2 -> 21 is prime\n",
      "21 % 3\n",
      "jk 21 is not prime\n",
      "22 % 2\n",
      "23 % 2\n",
      "23 % 2 -> 23 is prime\n",
      "23 % 3\n",
      "23 % 4\n",
      "23 % 5\n",
      "23 % 6\n",
      "23 % 7\n",
      "23 % 8\n",
      "23 % 9\n",
      "23 % 10\n",
      "23 % 11\n",
      "23 % 12\n",
      "23 % 13\n",
      "23 % 14\n",
      "23 % 15\n",
      "23 % 16\n",
      "23 % 17\n",
      "23 % 18\n",
      "23 % 19\n",
      "23 % 20\n",
      "23 % 21\n",
      "23 % 22\n",
      "24 % 2\n",
      "25 % 2\n",
      "25 % 2 -> 25 is prime\n",
      "25 % 3\n",
      "25 % 4\n",
      "25 % 5\n",
      "jk 25 is not prime\n",
      "26 % 2\n",
      "27 % 2\n",
      "27 % 2 -> 27 is prime\n",
      "27 % 3\n",
      "jk 27 is not prime\n",
      "28 % 2\n",
      "29 % 2\n",
      "29 % 2 -> 29 is prime\n",
      "29 % 3\n",
      "29 % 4\n",
      "29 % 5\n",
      "29 % 6\n",
      "29 % 7\n",
      "29 % 8\n",
      "29 % 9\n",
      "29 % 10\n",
      "29 % 11\n",
      "29 % 12\n",
      "29 % 13\n",
      "29 % 14\n",
      "29 % 15\n",
      "29 % 16\n",
      "29 % 17\n",
      "29 % 18\n",
      "29 % 19\n",
      "29 % 20\n",
      "29 % 21\n",
      "29 % 22\n",
      "29 % 23\n",
      "29 % 24\n",
      "29 % 25\n",
      "29 % 26\n",
      "29 % 27\n",
      "29 % 28\n",
      "30 % 2\n",
      "31 % 2\n",
      "31 % 2 -> 31 is prime\n",
      "31 % 3\n",
      "31 % 4\n",
      "31 % 5\n",
      "31 % 6\n",
      "31 % 7\n",
      "31 % 8\n",
      "31 % 9\n",
      "31 % 10\n",
      "31 % 11\n",
      "31 % 12\n",
      "31 % 13\n",
      "31 % 14\n",
      "31 % 15\n",
      "31 % 16\n",
      "31 % 17\n",
      "31 % 18\n",
      "31 % 19\n",
      "31 % 20\n",
      "31 % 21\n",
      "31 % 22\n",
      "31 % 23\n",
      "31 % 24\n",
      "31 % 25\n",
      "31 % 26\n",
      "31 % 27\n",
      "31 % 28\n",
      "31 % 29\n",
      "31 % 30\n",
      "32 % 2\n",
      "33 % 2\n",
      "33 % 2 -> 33 is prime\n",
      "33 % 3\n",
      "jk 33 is not prime\n",
      "34 % 2\n",
      "35 % 2\n",
      "35 % 2 -> 35 is prime\n",
      "35 % 3\n",
      "35 % 4\n",
      "35 % 5\n",
      "jk 35 is not prime\n",
      "36 % 2\n",
      "37 % 2\n",
      "37 % 2 -> 37 is prime\n",
      "37 % 3\n",
      "37 % 4\n",
      "37 % 5\n",
      "37 % 6\n",
      "37 % 7\n",
      "37 % 8\n",
      "37 % 9\n",
      "37 % 10\n",
      "37 % 11\n",
      "37 % 12\n",
      "37 % 13\n",
      "37 % 14\n",
      "37 % 15\n",
      "37 % 16\n",
      "37 % 17\n",
      "37 % 18\n",
      "37 % 19\n",
      "37 % 20\n",
      "37 % 21\n",
      "37 % 22\n",
      "37 % 23\n",
      "37 % 24\n",
      "37 % 25\n",
      "37 % 26\n",
      "37 % 27\n",
      "37 % 28\n",
      "37 % 29\n",
      "37 % 30\n",
      "37 % 31\n",
      "37 % 32\n",
      "37 % 33\n",
      "37 % 34\n",
      "37 % 35\n",
      "37 % 36\n",
      "38 % 2\n",
      "39 % 2\n",
      "39 % 2 -> 39 is prime\n",
      "39 % 3\n",
      "jk 39 is not prime\n",
      "40 % 2\n",
      "41 % 2\n",
      "41 % 2 -> 41 is prime\n",
      "41 % 3\n",
      "41 % 4\n",
      "41 % 5\n",
      "41 % 6\n",
      "41 % 7\n",
      "41 % 8\n",
      "41 % 9\n",
      "41 % 10\n",
      "41 % 11\n",
      "41 % 12\n",
      "41 % 13\n",
      "41 % 14\n",
      "41 % 15\n",
      "41 % 16\n",
      "41 % 17\n",
      "41 % 18\n",
      "41 % 19\n",
      "41 % 20\n",
      "41 % 21\n",
      "41 % 22\n",
      "41 % 23\n",
      "41 % 24\n",
      "41 % 25\n",
      "41 % 26\n",
      "41 % 27\n",
      "41 % 28\n",
      "41 % 29\n",
      "41 % 30\n",
      "41 % 31\n",
      "41 % 32\n",
      "41 % 33\n",
      "41 % 34\n",
      "41 % 35\n",
      "41 % 36\n",
      "41 % 37\n",
      "41 % 38\n",
      "41 % 39\n",
      "41 % 40\n",
      "42 % 2\n",
      "43 % 2\n",
      "43 % 2 -> 43 is prime\n",
      "43 % 3\n",
      "43 % 4\n",
      "43 % 5\n",
      "43 % 6\n",
      "43 % 7\n",
      "43 % 8\n",
      "43 % 9\n",
      "43 % 10\n",
      "43 % 11\n",
      "43 % 12\n",
      "43 % 13\n",
      "43 % 14\n",
      "43 % 15\n",
      "43 % 16\n",
      "43 % 17\n",
      "43 % 18\n",
      "43 % 19\n",
      "43 % 20\n",
      "43 % 21\n",
      "43 % 22\n",
      "43 % 23\n",
      "43 % 24\n",
      "43 % 25\n",
      "43 % 26\n",
      "43 % 27\n",
      "43 % 28\n",
      "43 % 29\n",
      "43 % 30\n",
      "43 % 31\n",
      "43 % 32\n",
      "43 % 33\n",
      "43 % 34\n",
      "43 % 35\n",
      "43 % 36\n",
      "43 % 37\n",
      "43 % 38\n",
      "43 % 39\n",
      "43 % 40\n",
      "43 % 41\n",
      "43 % 42\n",
      "44 % 2\n",
      "45 % 2\n",
      "45 % 2 -> 45 is prime\n",
      "45 % 3\n",
      "jk 45 is not prime\n",
      "46 % 2\n",
      "47 % 2\n",
      "47 % 2 -> 47 is prime\n",
      "47 % 3\n",
      "47 % 4\n",
      "47 % 5\n",
      "47 % 6\n",
      "47 % 7\n",
      "47 % 8\n",
      "47 % 9\n",
      "47 % 10\n",
      "47 % 11\n",
      "47 % 12\n",
      "47 % 13\n",
      "47 % 14\n",
      "47 % 15\n",
      "47 % 16\n",
      "47 % 17\n",
      "47 % 18\n",
      "47 % 19\n",
      "47 % 20\n",
      "47 % 21\n",
      "47 % 22\n",
      "47 % 23\n",
      "47 % 24\n",
      "47 % 25\n",
      "47 % 26\n",
      "47 % 27\n",
      "47 % 28\n",
      "47 % 29\n",
      "47 % 30\n",
      "47 % 31\n",
      "47 % 32\n",
      "47 % 33\n",
      "47 % 34\n",
      "47 % 35\n",
      "47 % 36\n",
      "47 % 37\n",
      "47 % 38\n",
      "47 % 39\n",
      "47 % 40\n",
      "47 % 41\n",
      "47 % 42\n",
      "47 % 43\n",
      "47 % 44\n",
      "47 % 45\n",
      "47 % 46\n",
      "48 % 2\n",
      "49 % 2\n",
      "49 % 2 -> 49 is prime\n",
      "49 % 3\n",
      "49 % 4\n",
      "49 % 5\n",
      "49 % 6\n",
      "49 % 7\n",
      "jk 49 is not prime\n",
      "50 % 2\n",
      "51 % 2\n",
      "51 % 2 -> 51 is prime\n",
      "51 % 3\n",
      "jk 51 is not prime\n",
      "52 % 2\n",
      "53 % 2\n",
      "53 % 2 -> 53 is prime\n",
      "53 % 3\n",
      "53 % 4\n",
      "53 % 5\n",
      "53 % 6\n",
      "53 % 7\n",
      "53 % 8\n",
      "53 % 9\n",
      "53 % 10\n",
      "53 % 11\n",
      "53 % 12\n",
      "53 % 13\n",
      "53 % 14\n",
      "53 % 15\n",
      "53 % 16\n",
      "53 % 17\n",
      "53 % 18\n",
      "53 % 19\n",
      "53 % 20\n",
      "53 % 21\n",
      "53 % 22\n",
      "53 % 23\n",
      "53 % 24\n",
      "53 % 25\n",
      "53 % 26\n",
      "53 % 27\n",
      "53 % 28\n",
      "53 % 29\n",
      "53 % 30\n",
      "53 % 31\n",
      "53 % 32\n",
      "53 % 33\n",
      "53 % 34\n",
      "53 % 35\n",
      "53 % 36\n",
      "53 % 37\n",
      "53 % 38\n",
      "53 % 39\n",
      "53 % 40\n",
      "53 % 41\n",
      "53 % 42\n",
      "53 % 43\n",
      "53 % 44\n",
      "53 % 45\n",
      "53 % 46\n",
      "53 % 47\n",
      "53 % 48\n",
      "53 % 49\n",
      "53 % 50\n",
      "53 % 51\n",
      "53 % 52\n",
      "54 % 2\n",
      "55 % 2\n",
      "55 % 2 -> 55 is prime\n",
      "55 % 3\n",
      "55 % 4\n",
      "55 % 5\n",
      "jk 55 is not prime\n",
      "56 % 2\n",
      "57 % 2\n",
      "57 % 2 -> 57 is prime\n",
      "57 % 3\n",
      "jk 57 is not prime\n",
      "58 % 2\n",
      "59 % 2\n",
      "59 % 2 -> 59 is prime\n",
      "59 % 3\n",
      "59 % 4\n",
      "59 % 5\n",
      "59 % 6\n",
      "59 % 7\n",
      "59 % 8\n",
      "59 % 9\n",
      "59 % 10\n",
      "59 % 11\n",
      "59 % 12\n",
      "59 % 13\n",
      "59 % 14\n",
      "59 % 15\n",
      "59 % 16\n",
      "59 % 17\n",
      "59 % 18\n",
      "59 % 19\n",
      "59 % 20\n",
      "59 % 21\n",
      "59 % 22\n",
      "59 % 23\n",
      "59 % 24\n",
      "59 % 25\n",
      "59 % 26\n",
      "59 % 27\n",
      "59 % 28\n",
      "59 % 29\n",
      "59 % 30\n",
      "59 % 31\n",
      "59 % 32\n",
      "59 % 33\n",
      "59 % 34\n",
      "59 % 35\n",
      "59 % 36\n",
      "59 % 37\n",
      "59 % 38\n",
      "59 % 39\n",
      "59 % 40\n",
      "59 % 41\n",
      "59 % 42\n",
      "59 % 43\n",
      "59 % 44\n",
      "59 % 45\n",
      "59 % 46\n",
      "59 % 47\n",
      "59 % 48\n",
      "59 % 49\n",
      "59 % 50\n",
      "59 % 51\n",
      "59 % 52\n",
      "59 % 53\n",
      "59 % 54\n",
      "59 % 55\n",
      "59 % 56\n",
      "59 % 57\n",
      "59 % 58\n",
      "60 % 2\n",
      "61 % 2\n",
      "61 % 2 -> 61 is prime\n",
      "61 % 3\n",
      "61 % 4\n",
      "61 % 5\n",
      "61 % 6\n",
      "61 % 7\n",
      "61 % 8\n",
      "61 % 9\n",
      "61 % 10\n",
      "61 % 11\n",
      "61 % 12\n",
      "61 % 13\n",
      "61 % 14\n",
      "61 % 15\n",
      "61 % 16\n",
      "61 % 17\n",
      "61 % 18\n",
      "61 % 19\n",
      "61 % 20\n",
      "61 % 21\n",
      "61 % 22\n",
      "61 % 23\n",
      "61 % 24\n",
      "61 % 25\n",
      "61 % 26\n",
      "61 % 27\n",
      "61 % 28\n",
      "61 % 29\n",
      "61 % 30\n",
      "61 % 31\n",
      "61 % 32\n",
      "61 % 33\n",
      "61 % 34\n",
      "61 % 35\n",
      "61 % 36\n",
      "61 % 37\n",
      "61 % 38\n",
      "61 % 39\n",
      "61 % 40\n",
      "61 % 41\n",
      "61 % 42\n",
      "61 % 43\n",
      "61 % 44\n",
      "61 % 45\n",
      "61 % 46\n",
      "61 % 47\n",
      "61 % 48\n",
      "61 % 49\n",
      "61 % 50\n",
      "61 % 51\n",
      "61 % 52\n",
      "61 % 53\n",
      "61 % 54\n",
      "61 % 55\n",
      "61 % 56\n",
      "61 % 57\n",
      "61 % 58\n",
      "61 % 59\n",
      "61 % 60\n",
      "62 % 2\n",
      "63 % 2\n",
      "63 % 2 -> 63 is prime\n",
      "63 % 3\n",
      "jk 63 is not prime\n",
      "64 % 2\n",
      "65 % 2\n",
      "65 % 2 -> 65 is prime\n",
      "65 % 3\n",
      "65 % 4\n",
      "65 % 5\n",
      "jk 65 is not prime\n",
      "66 % 2\n",
      "67 % 2\n",
      "67 % 2 -> 67 is prime\n",
      "67 % 3\n",
      "67 % 4\n",
      "67 % 5\n",
      "67 % 6\n",
      "67 % 7\n",
      "67 % 8\n",
      "67 % 9\n",
      "67 % 10\n",
      "67 % 11\n",
      "67 % 12\n",
      "67 % 13\n",
      "67 % 14\n",
      "67 % 15\n",
      "67 % 16\n",
      "67 % 17\n",
      "67 % 18\n",
      "67 % 19\n",
      "67 % 20\n",
      "67 % 21\n",
      "67 % 22\n",
      "67 % 23\n",
      "67 % 24\n",
      "67 % 25\n",
      "67 % 26\n",
      "67 % 27\n",
      "67 % 28\n",
      "67 % 29\n",
      "67 % 30\n",
      "67 % 31\n",
      "67 % 32\n",
      "67 % 33\n",
      "67 % 34\n",
      "67 % 35\n",
      "67 % 36\n",
      "67 % 37\n",
      "67 % 38\n",
      "67 % 39\n",
      "67 % 40\n",
      "67 % 41\n",
      "67 % 42\n",
      "67 % 43\n",
      "67 % 44\n",
      "67 % 45\n",
      "67 % 46\n",
      "67 % 47\n",
      "67 % 48\n",
      "67 % 49\n",
      "67 % 50\n",
      "67 % 51\n",
      "67 % 52\n",
      "67 % 53\n",
      "67 % 54\n",
      "67 % 55\n",
      "67 % 56\n",
      "67 % 57\n",
      "67 % 58\n",
      "67 % 59\n",
      "67 % 60\n",
      "67 % 61\n",
      "67 % 62\n",
      "67 % 63\n",
      "67 % 64\n",
      "67 % 65\n",
      "67 % 66\n",
      "68 % 2\n",
      "69 % 2\n",
      "69 % 2 -> 69 is prime\n",
      "69 % 3\n",
      "jk 69 is not prime\n",
      "70 % 2\n",
      "71 % 2\n",
      "71 % 2 -> 71 is prime\n",
      "71 % 3\n",
      "71 % 4\n",
      "71 % 5\n",
      "71 % 6\n",
      "71 % 7\n",
      "71 % 8\n",
      "71 % 9\n",
      "71 % 10\n",
      "71 % 11\n",
      "71 % 12\n",
      "71 % 13\n",
      "71 % 14\n",
      "71 % 15\n",
      "71 % 16\n",
      "71 % 17\n",
      "71 % 18\n",
      "71 % 19\n",
      "71 % 20\n",
      "71 % 21\n",
      "71 % 22\n",
      "71 % 23\n",
      "71 % 24\n",
      "71 % 25\n",
      "71 % 26\n",
      "71 % 27\n",
      "71 % 28\n",
      "71 % 29\n",
      "71 % 30\n",
      "71 % 31\n",
      "71 % 32\n",
      "71 % 33\n",
      "71 % 34\n",
      "71 % 35\n",
      "71 % 36\n",
      "71 % 37\n",
      "71 % 38\n",
      "71 % 39\n",
      "71 % 40\n",
      "71 % 41\n",
      "71 % 42\n",
      "71 % 43\n",
      "71 % 44\n",
      "71 % 45\n",
      "71 % 46\n",
      "71 % 47\n",
      "71 % 48\n",
      "71 % 49\n",
      "71 % 50\n",
      "71 % 51\n",
      "71 % 52\n",
      "71 % 53\n",
      "71 % 54\n",
      "71 % 55\n",
      "71 % 56\n",
      "71 % 57\n",
      "71 % 58\n",
      "71 % 59\n",
      "71 % 60\n",
      "71 % 61\n",
      "71 % 62\n",
      "71 % 63\n",
      "71 % 64\n",
      "71 % 65\n",
      "71 % 66\n",
      "71 % 67\n",
      "71 % 68\n",
      "71 % 69\n",
      "71 % 70\n",
      "72 % 2\n",
      "73 % 2\n",
      "73 % 2 -> 73 is prime\n",
      "73 % 3\n",
      "73 % 4\n",
      "73 % 5\n",
      "73 % 6\n",
      "73 % 7\n",
      "73 % 8\n",
      "73 % 9\n",
      "73 % 10\n",
      "73 % 11\n",
      "73 % 12\n",
      "73 % 13\n",
      "73 % 14\n",
      "73 % 15\n",
      "73 % 16\n",
      "73 % 17\n",
      "73 % 18\n",
      "73 % 19\n",
      "73 % 20\n",
      "73 % 21\n",
      "73 % 22\n",
      "73 % 23\n",
      "73 % 24\n",
      "73 % 25\n",
      "73 % 26\n",
      "73 % 27\n",
      "73 % 28\n",
      "73 % 29\n",
      "73 % 30\n",
      "73 % 31\n",
      "73 % 32\n",
      "73 % 33\n",
      "73 % 34\n",
      "73 % 35\n",
      "73 % 36\n",
      "73 % 37\n",
      "73 % 38\n",
      "73 % 39\n",
      "73 % 40\n",
      "73 % 41\n",
      "73 % 42\n",
      "73 % 43\n",
      "73 % 44\n",
      "73 % 45\n",
      "73 % 46\n",
      "73 % 47\n",
      "73 % 48\n",
      "73 % 49\n",
      "73 % 50\n",
      "73 % 51\n",
      "73 % 52\n",
      "73 % 53\n",
      "73 % 54\n",
      "73 % 55\n",
      "73 % 56\n",
      "73 % 57\n",
      "73 % 58\n",
      "73 % 59\n",
      "73 % 60\n",
      "73 % 61\n",
      "73 % 62\n",
      "73 % 63\n",
      "73 % 64\n",
      "73 % 65\n",
      "73 % 66\n",
      "73 % 67\n",
      "73 % 68\n",
      "73 % 69\n",
      "73 % 70\n",
      "73 % 71\n",
      "73 % 72\n",
      "74 % 2\n",
      "75 % 2\n",
      "75 % 2 -> 75 is prime\n",
      "75 % 3\n",
      "jk 75 is not prime\n",
      "76 % 2\n",
      "77 % 2\n",
      "77 % 2 -> 77 is prime\n",
      "77 % 3\n",
      "77 % 4\n",
      "77 % 5\n",
      "77 % 6\n",
      "77 % 7\n",
      "jk 77 is not prime\n",
      "78 % 2\n",
      "79 % 2\n",
      "79 % 2 -> 79 is prime\n",
      "79 % 3\n",
      "79 % 4\n",
      "79 % 5\n",
      "79 % 6\n",
      "79 % 7\n",
      "79 % 8\n",
      "79 % 9\n",
      "79 % 10\n",
      "79 % 11\n",
      "79 % 12\n",
      "79 % 13\n",
      "79 % 14\n",
      "79 % 15\n",
      "79 % 16\n",
      "79 % 17\n",
      "79 % 18\n",
      "79 % 19\n",
      "79 % 20\n",
      "79 % 21\n",
      "79 % 22\n",
      "79 % 23\n",
      "79 % 24\n",
      "79 % 25\n",
      "79 % 26\n",
      "79 % 27\n",
      "79 % 28\n",
      "79 % 29\n",
      "79 % 30\n",
      "79 % 31\n",
      "79 % 32\n",
      "79 % 33\n",
      "79 % 34\n",
      "79 % 35\n",
      "79 % 36\n",
      "79 % 37\n",
      "79 % 38\n",
      "79 % 39\n",
      "79 % 40\n",
      "79 % 41\n",
      "79 % 42\n",
      "79 % 43\n",
      "79 % 44\n",
      "79 % 45\n",
      "79 % 46\n",
      "79 % 47\n",
      "79 % 48\n",
      "79 % 49\n",
      "79 % 50\n",
      "79 % 51\n",
      "79 % 52\n",
      "79 % 53\n",
      "79 % 54\n",
      "79 % 55\n",
      "79 % 56\n",
      "79 % 57\n",
      "79 % 58\n",
      "79 % 59\n",
      "79 % 60\n",
      "79 % 61\n",
      "79 % 62\n",
      "79 % 63\n",
      "79 % 64\n",
      "79 % 65\n",
      "79 % 66\n",
      "79 % 67\n",
      "79 % 68\n",
      "79 % 69\n",
      "79 % 70\n",
      "79 % 71\n",
      "79 % 72\n",
      "79 % 73\n",
      "79 % 74\n",
      "79 % 75\n",
      "79 % 76\n",
      "79 % 77\n",
      "79 % 78\n",
      "80 % 2\n",
      "81 % 2\n",
      "81 % 2 -> 81 is prime\n",
      "81 % 3\n",
      "jk 81 is not prime\n",
      "82 % 2\n",
      "83 % 2\n",
      "83 % 2 -> 83 is prime\n",
      "83 % 3\n",
      "83 % 4\n",
      "83 % 5\n",
      "83 % 6\n",
      "83 % 7\n",
      "83 % 8\n",
      "83 % 9\n",
      "83 % 10\n",
      "83 % 11\n",
      "83 % 12\n",
      "83 % 13\n",
      "83 % 14\n",
      "83 % 15\n",
      "83 % 16\n",
      "83 % 17\n",
      "83 % 18\n",
      "83 % 19\n",
      "83 % 20\n",
      "83 % 21\n",
      "83 % 22\n",
      "83 % 23\n",
      "83 % 24\n",
      "83 % 25\n",
      "83 % 26\n",
      "83 % 27\n",
      "83 % 28\n",
      "83 % 29\n",
      "83 % 30\n",
      "83 % 31\n",
      "83 % 32\n",
      "83 % 33\n",
      "83 % 34\n",
      "83 % 35\n",
      "83 % 36\n",
      "83 % 37\n",
      "83 % 38\n",
      "83 % 39\n",
      "83 % 40\n",
      "83 % 41\n",
      "83 % 42\n",
      "83 % 43\n",
      "83 % 44\n",
      "83 % 45\n",
      "83 % 46\n",
      "83 % 47\n",
      "83 % 48\n",
      "83 % 49\n",
      "83 % 50\n",
      "83 % 51\n",
      "83 % 52\n",
      "83 % 53\n",
      "83 % 54\n",
      "83 % 55\n",
      "83 % 56\n",
      "83 % 57\n",
      "83 % 58\n",
      "83 % 59\n",
      "83 % 60\n",
      "83 % 61\n",
      "83 % 62\n",
      "83 % 63\n",
      "83 % 64\n",
      "83 % 65\n",
      "83 % 66\n",
      "83 % 67\n",
      "83 % 68\n",
      "83 % 69\n",
      "83 % 70\n",
      "83 % 71\n",
      "83 % 72\n",
      "83 % 73\n",
      "83 % 74\n",
      "83 % 75\n",
      "83 % 76\n",
      "83 % 77\n",
      "83 % 78\n",
      "83 % 79\n",
      "83 % 80\n",
      "83 % 81\n",
      "83 % 82\n",
      "84 % 2\n",
      "85 % 2\n",
      "85 % 2 -> 85 is prime\n",
      "85 % 3\n",
      "85 % 4\n",
      "85 % 5\n",
      "jk 85 is not prime\n",
      "86 % 2\n",
      "87 % 2\n",
      "87 % 2 -> 87 is prime\n",
      "87 % 3\n",
      "jk 87 is not prime\n",
      "88 % 2\n",
      "89 % 2\n",
      "89 % 2 -> 89 is prime\n",
      "89 % 3\n",
      "89 % 4\n",
      "89 % 5\n",
      "89 % 6\n",
      "89 % 7\n",
      "89 % 8\n",
      "89 % 9\n",
      "89 % 10\n",
      "89 % 11\n",
      "89 % 12\n",
      "89 % 13\n",
      "89 % 14\n",
      "89 % 15\n",
      "89 % 16\n",
      "89 % 17\n",
      "89 % 18\n",
      "89 % 19\n",
      "89 % 20\n",
      "89 % 21\n",
      "89 % 22\n",
      "89 % 23\n",
      "89 % 24\n",
      "89 % 25\n",
      "89 % 26\n",
      "89 % 27\n",
      "89 % 28\n",
      "89 % 29\n",
      "89 % 30\n",
      "89 % 31\n",
      "89 % 32\n",
      "89 % 33\n",
      "89 % 34\n",
      "89 % 35\n",
      "89 % 36\n",
      "89 % 37\n",
      "89 % 38\n",
      "89 % 39\n",
      "89 % 40\n",
      "89 % 41\n",
      "89 % 42\n",
      "89 % 43\n",
      "89 % 44\n",
      "89 % 45\n",
      "89 % 46\n",
      "89 % 47\n",
      "89 % 48\n",
      "89 % 49\n",
      "89 % 50\n",
      "89 % 51\n",
      "89 % 52\n",
      "89 % 53\n",
      "89 % 54\n",
      "89 % 55\n",
      "89 % 56\n",
      "89 % 57\n",
      "89 % 58\n",
      "89 % 59\n",
      "89 % 60\n",
      "89 % 61\n",
      "89 % 62\n",
      "89 % 63\n",
      "89 % 64\n",
      "89 % 65\n",
      "89 % 66\n",
      "89 % 67\n",
      "89 % 68\n",
      "89 % 69\n",
      "89 % 70\n",
      "89 % 71\n",
      "89 % 72\n",
      "89 % 73\n",
      "89 % 74\n",
      "89 % 75\n",
      "89 % 76\n",
      "89 % 77\n",
      "89 % 78\n",
      "89 % 79\n",
      "89 % 80\n",
      "89 % 81\n",
      "89 % 82\n",
      "89 % 83\n",
      "89 % 84\n",
      "89 % 85\n",
      "89 % 86\n",
      "89 % 87\n",
      "89 % 88\n",
      "90 % 2\n",
      "91 % 2\n",
      "91 % 2 -> 91 is prime\n",
      "91 % 3\n",
      "91 % 4\n",
      "91 % 5\n",
      "91 % 6\n",
      "91 % 7\n",
      "jk 91 is not prime\n",
      "92 % 2\n",
      "93 % 2\n",
      "93 % 2 -> 93 is prime\n",
      "93 % 3\n",
      "jk 93 is not prime\n",
      "94 % 2\n",
      "95 % 2\n",
      "95 % 2 -> 95 is prime\n",
      "95 % 3\n",
      "95 % 4\n",
      "95 % 5\n",
      "jk 95 is not prime\n",
      "96 % 2\n",
      "97 % 2\n",
      "97 % 2 -> 97 is prime\n",
      "97 % 3\n",
      "97 % 4\n",
      "97 % 5\n",
      "97 % 6\n",
      "97 % 7\n",
      "97 % 8\n",
      "97 % 9\n",
      "97 % 10\n",
      "97 % 11\n",
      "97 % 12\n",
      "97 % 13\n",
      "97 % 14\n",
      "97 % 15\n",
      "97 % 16\n",
      "97 % 17\n",
      "97 % 18\n",
      "97 % 19\n",
      "97 % 20\n",
      "97 % 21\n",
      "97 % 22\n",
      "97 % 23\n",
      "97 % 24\n",
      "97 % 25\n",
      "97 % 26\n",
      "97 % 27\n",
      "97 % 28\n",
      "97 % 29\n",
      "97 % 30\n",
      "97 % 31\n",
      "97 % 32\n",
      "97 % 33\n",
      "97 % 34\n",
      "97 % 35\n",
      "97 % 36\n",
      "97 % 37\n",
      "97 % 38\n",
      "97 % 39\n",
      "97 % 40\n",
      "97 % 41\n",
      "97 % 42\n",
      "97 % 43\n",
      "97 % 44\n",
      "97 % 45\n",
      "97 % 46\n",
      "97 % 47\n",
      "97 % 48\n",
      "97 % 49\n",
      "97 % 50\n",
      "97 % 51\n",
      "97 % 52\n",
      "97 % 53\n",
      "97 % 54\n",
      "97 % 55\n",
      "97 % 56\n",
      "97 % 57\n",
      "97 % 58\n",
      "97 % 59\n",
      "97 % 60\n",
      "97 % 61\n",
      "97 % 62\n",
      "97 % 63\n",
      "97 % 64\n",
      "97 % 65\n",
      "97 % 66\n",
      "97 % 67\n",
      "97 % 68\n",
      "97 % 69\n",
      "97 % 70\n",
      "97 % 71\n",
      "97 % 72\n",
      "97 % 73\n",
      "97 % 74\n",
      "97 % 75\n",
      "97 % 76\n",
      "97 % 77\n",
      "97 % 78\n",
      "97 % 79\n",
      "97 % 80\n",
      "97 % 81\n",
      "97 % 82\n",
      "97 % 83\n",
      "97 % 84\n",
      "97 % 85\n",
      "97 % 86\n",
      "97 % 87\n",
      "97 % 88\n",
      "97 % 89\n",
      "97 % 90\n",
      "97 % 91\n",
      "97 % 92\n",
      "97 % 93\n",
      "97 % 94\n",
      "97 % 95\n",
      "97 % 96\n",
      "98 % 2\n",
      "99 % 2\n",
      "99 % 2 -> 99 is prime\n",
      "99 % 3\n",
      "jk 99 is not prime\n",
      "[2, 3, 5, 7, 11, 13, 17, 19, 23, 29, 31, 37, 41, 43, 47, 53, 59, 61, 67, 71, 73, 79, 83, 89, 97]\n"
     ]
    }
   ],
   "source": [
    "# Write a little program to generate the list of all the prime numbers less than 100.\n",
    "# Again, % is your friend here. You will probably need to do a for loop inside a for loop!\n",
    "#\n",
    "p = [2]\n",
    "for i in range(1, 100):\n",
    "    for j in range(2, i):\n",
    "        print(i, '%', j)\n",
    "        if i%j == 0:\n",
    "            if i in p:\n",
    "                print('jk', i, 'is not prime')\n",
    "                p.pop() # removes most recent appended item\n",
    "            break\n",
    "        elif i%j != 0:\n",
    "            if i not in p:\n",
    "                print(i,'%', j, '->', i, 'is prime')\n",
    "                p.append(i)\n",
    "                \n",
    "\n",
    "print(p) "
   ]
  },
  {
   "cell_type": "code",
   "execution_count": 57,
   "metadata": {},
   "outputs": [
    {
     "data": {
      "text/plain": [
       "0"
      ]
     },
     "execution_count": 57,
     "metadata": {},
     "output_type": "execute_result"
    }
   ],
   "source": [
    "2%1"
   ]
  },
  {
   "cell_type": "markdown",
   "metadata": {},
   "source": [
    "# Defining new functions\n",
    "We use the `def` keyword to define a new function. "
   ]
  },
  {
   "cell_type": "code",
   "execution_count": null,
   "metadata": {},
   "outputs": [],
   "source": [
    "def say_hello():\n",
    "    print('Hello!')\n",
    "\n",
    "say_hello()"
   ]
  },
  {
   "cell_type": "code",
   "execution_count": null,
   "metadata": {},
   "outputs": [],
   "source": [
    "# functions can take inputs, called \"arguments\" or \"parameters\"\n",
    "def greet(name):\n",
    "    print('Nice to meet you,', name)\n",
    "\n",
    "greet('phil')\n",
    "greet('charlie')"
   ]
  },
  {
   "cell_type": "markdown",
   "metadata": {},
   "source": [
    "Functions can return results to the caller, using the `return` statement"
   ]
  },
  {
   "cell_type": "code",
   "execution_count": null,
   "metadata": {},
   "outputs": [],
   "source": [
    "base_partner = {'A':'T', 'T':'A', 'C':'G', 'G':'C'}\n",
    "num_hbonds = {'A':2, 'T':2, 'C':3, 'G':3}\n",
    "\n",
    "\n",
    "def reverse_complement(seq):\n",
    "    \"returns the reverse complement of a nucleic acid sequence\"\n",
    "    bwd = ''\n",
    "    for base in seq:\n",
    "        bwd = base_partner[base] + bwd\n",
    "    return bwd\n",
    "\n",
    "def total_hbonds(seq):\n",
    "    'returns the total number of watson-crick hbonds between seq and its reverse complement'\n",
    "    total=0\n",
    "    for a in seq:\n",
    "        total += num_hbonds[a]\n",
    "    return total\n",
    "\n",
    "fwd = 'ACGGTAATGATCCTCAG'\n",
    "rev = reverse_complement( fwd )\n",
    "\n",
    "print ('fwd=',fwd,'rev=',rev,'num_hbonds=',total_hbonds(fwd))\n",
    "\n",
    "# an assert statement checks to see if something is true, and will interrupt the program if it's not.\n",
    "assert reverse_complement(reverse_complement(fwd)) == fwd\n",
    "assert total_hbonds(fwd) == total_hbonds(rev)\n"
   ]
  },
  {
   "cell_type": "markdown",
   "metadata": {},
   "source": [
    "Functions can have OPTIONAL ARGUMENTS whose DEFAULT VALUES are pre-specified in the function definition."
   ]
  },
  {
   "cell_type": "code",
   "execution_count": null,
   "metadata": {},
   "outputs": [],
   "source": [
    "def reverse_complement(seq, unk_partner='N'):\n",
    "    \"\"\"Returns the reverse complement of a nucleic acid sequence\n",
    "    \n",
    "    Uses unk_partner as the partner of unrecognized letters\n",
    "    \"\"\"\n",
    "\n",
    "    rseq = ''\n",
    "    for a in seq:\n",
    "        if a in base_partner:\n",
    "            rseq = base_partner[a] + rseq\n",
    "        else:\n",
    "            rseq = unk_partner + rseq\n",
    "    return rseq\n",
    "\n",
    "fwd = 'ACTGTAGCxGAcTNCGAC'\n",
    "print(reverse_complement(fwd))\n",
    "print(reverse_complement(fwd, unk_partner='-'))\n"
   ]
  },
  {
   "cell_type": "markdown",
   "metadata": {},
   "source": [
    "Functions can call other functions, even themselves:"
   ]
  },
  {
   "cell_type": "code",
   "execution_count": null,
   "metadata": {},
   "outputs": [],
   "source": [
    "def factorial(n):\n",
    "    \"\"\"Calculate the factorial of a number recursively. Bad things will happen \n",
    "    if the number is negative or not an integer \"\"\"\n",
    "    if n==0:\n",
    "        return 1\n",
    "    else:\n",
    "        return n * factorial(n-1) # this is called \"recursion\"\n",
    "    \n",
    "# the help function prints the docstring\n",
    "help(factorial)\n",
    "\n",
    "for i in range(10):\n",
    "    print(i,'factorial =',factorial(i))"
   ]
  },
  {
   "cell_type": "markdown",
   "metadata": {},
   "source": [
    "Try using `factorial?` and `factorial??` to see the docstring and source code of our new function. "
   ]
  },
  {
   "cell_type": "code",
   "execution_count": null,
   "metadata": {},
   "outputs": [],
   "source": [
    "factorial??\n"
   ]
  },
  {
   "cell_type": "markdown",
   "metadata": {},
   "source": [
    "# Using a function in a built-in module\n",
    "\n",
    "Python has an extensive collection of built-in **modules** which contain all sorts of useful special purpose functions and objects. A few favorites:\n",
    "\n",
    "* `math`: mathematical functions and constants\n",
    "* `re`: regular expression searches.\n",
    "* `os`: access to operating system routines (e.g., `os.path.exists` function to check if a file exists)\n",
    "* `csv`: routines for reading/writing delimitted data\n",
    "* `sys`: special variables used or maintained by the interpreter (`sys.path`, `sys.stdout`, `sys.argv`, ...)\n",
    "* `random`: random number generators\n",
    "* `glob`: file-finding functions with wild-cards (like using `*` on the command line)\n",
    "* `pdb`: python debugger\n",
    "* `timeit`: for profiling (timing) code snippets\n",
    "* `tkinter`: python interface to tcl/tk graphics library\n",
    "* `xml`: xml processing modules\n",
    "* `string`: common string operations and constants\n",
    "\n",
    "\n",
    "[The full list is here](https://docs.python.org/3/library/)"
   ]
  },
  {
   "cell_type": "code",
   "execution_count": null,
   "metadata": {},
   "outputs": [],
   "source": [
    "# Here we are \"importing\" a module called math which contains some math-y functions like sqrt and floor\n",
    "import math\n",
    "\n",
    "\n",
    "def is_prime( num ):\n",
    "    \"\"\"Figure out whether num is prime\"\"\"\n",
    "    assert type(num) is int\n",
    "    assert num >= 1\n",
    "    \n",
    "    max_factor = math.floor( math.sqrt( num ) )\n",
    "    #max_factor = num-1\n",
    "    \n",
    "    for i in range(2,max_factor+1):\n",
    "        if num%i == 0:\n",
    "            return False\n",
    "    return True\n",
    "\n",
    "for i in range(1,50):\n",
    "    if is_prime(i):\n",
    "        print(i)\n",
    "        \n",
    "# look at the distribution of primes less than 1000\n",
    "\n",
    "prime_counts_per_100 = [0]*10 # we need 10 bins for this\n",
    "\n",
    "for i in range(1,1000):\n",
    "    if is_prime(i):\n",
    "        counts_bin = i//100\n",
    "        prime_counts_per_100[ counts_bin ] += 1\n",
    "        \n",
    "print( 'prime_counts_per_100:',prime_counts_per_100 )"
   ]
  },
  {
   "cell_type": "code",
   "execution_count": null,
   "metadata": {},
   "outputs": [],
   "source": [
    "## try this to see how long the is_prime function takes (remove the #):\n",
    "# %timeit is_prime(997)"
   ]
  },
  {
   "cell_type": "code",
   "execution_count": null,
   "metadata": {},
   "outputs": [],
   "source": [
    "def is_prime_v2( num, smaller_primes ):\n",
    "    \"\"\"Figure out if num is prime based on the set of smaller primes\"\"\"\n",
    "    max_factor = math.floor( math.sqrt( num ) )\n",
    "    for p in smaller_primes:\n",
    "        if p>max_factor: break\n",
    "        if num%p == 0:\n",
    "            return False\n",
    "    return True\n",
    "\n",
    "\n",
    "# test the prime number theorem which says that the number of primes less than N\n",
    "# asymptotically approaches N/log(N)\n",
    "#\n",
    "\n",
    "primes = []\n",
    "\n",
    "for num in range(2,10000):\n",
    "    if is_prime_v2( num, primes ):\n",
    "        primes.append( num )\n",
    "    if num%100==0:\n",
    "        actual = len(primes)\n",
    "        estimate = num / math.log(num)\n",
    "        ratio = actual / estimate\n",
    "        print( num, actual, estimate, ratio )\n",
    "\n",
    "\n",
    "        \n",
    "            \n"
   ]
  },
  {
   "cell_type": "markdown",
   "metadata": {},
   "source": [
    "# dictionary `.items()` for looping\n",
    "\n",
    "We can loop over key,value pairs easily"
   ]
  },
  {
   "cell_type": "code",
   "execution_count": null,
   "metadata": {},
   "outputs": [],
   "source": [
    "base_partner = {'A':'T', 'T':'A', 'C':'G', 'G':'C'}\n",
    "\n",
    "for a, a_partner in base_partner.items():\n",
    "    print( a, 'pairs with', a_partner )\n",
    "    "
   ]
  },
  {
   "cell_type": "markdown",
   "metadata": {},
   "source": [
    "# list comprehension\n",
    "Python gives us a super-compact way of creating lists called a *list comprehension*. It looks kind of like a for-loop inside square brackets.\n",
    "\n",
    "The general syntax is `[<value> for <var> in <list> if <condition>]` where the `if <condition>` part is optional.\n"
   ]
  },
  {
   "cell_type": "code",
   "execution_count": null,
   "metadata": {},
   "outputs": [],
   "source": [
    "even_numbers = [2*i for i in range(50)]\n",
    "print(even_numbers)"
   ]
  },
  {
   "cell_type": "code",
   "execution_count": null,
   "metadata": {},
   "outputs": [],
   "source": [
    "even_numbers = [i for i in range(100) if i%2==0]\n",
    "print(even_numbers)"
   ]
  },
  {
   "cell_type": "code",
   "execution_count": null,
   "metadata": {},
   "outputs": [],
   "source": [
    "base_partner = {'A':'T', 'T':'A', 'C':'G', 'G':'C'}\n",
    "\n",
    "fwd = 'ACATGTCGATCGTAGCTGCA'\n",
    "\n",
    "# strings have a .join method that joins together a list of strings into a single string.\n",
    "# it's like the opposite of split\n",
    "rev = ''.join([base_partner[x] for x in reversed(fwd)]) # reversed lets us loop over the elements of a list/string/etc in reverse order\n",
    "rev"
   ]
  },
  {
   "cell_type": "markdown",
   "metadata": {},
   "source": [
    "You can make dictionaries this way, too!"
   ]
  },
  {
   "cell_type": "code",
   "execution_count": null,
   "metadata": {},
   "outputs": [],
   "source": [
    "amino_acids = 'ACDEFGHIKLMNPQRSTVWY'\n",
    "\n",
    "#enumerate is a wonderful builtin function that lets you get BOTH the index AND the item in a for-loop \n",
    "aa_to_index = {aa:i for i,aa in enumerate(amino_acids)}\n",
    "print(aa_to_index)"
   ]
  },
  {
   "cell_type": "markdown",
   "metadata": {},
   "source": [
    "# `tuples`\n",
    "\n",
    "Dictionary keys can be any *immutable* objects, where immutable objects are ones (like integers, floats, strings) that can't be changed after they are created. So lists are no good. But, there's something called a `tuple` which looks a lot like a list and can be used as a dictionary key, and in lots of other places where multiple items are passed around."
   ]
  },
  {
   "cell_type": "code",
   "execution_count": null,
   "metadata": {},
   "outputs": [],
   "source": [
    "# create a tuple\n",
    "t = (4,5,'a')\n",
    "\n",
    "# create an empty dictionary\n",
    "D = {}\n",
    "\n",
    "# set the value 4 for the key t in the dictionary D\n",
    "D[t] = 4\n",
    "\n",
    "# print stuff\n",
    "print('t=',t)\n",
    "print('D=',D)"
   ]
  },
  {
   "cell_type": "markdown",
   "metadata": {},
   "source": [
    "`tuples` can be **unpacked** by assigning to them a sequence of variables matching their length: "
   ]
  },
  {
   "cell_type": "code",
   "execution_count": null,
   "metadata": {},
   "outputs": [],
   "source": [
    "nums = ( 4, 11, 17 )\n",
    "\n",
    "a,b,c = nums\n",
    "\n",
    "print('nums=',nums)\n",
    "print('a=',a)\n",
    "print('b=',b)\n",
    "print('c=',c)"
   ]
  },
  {
   "cell_type": "markdown",
   "metadata": {},
   "source": [
    "# running shell commands in notebooks and getting the results\n",
    "We can run (most) shell commands from within the notebook by preceding them with `!`"
   ]
  },
  {
   "cell_type": "code",
   "execution_count": null,
   "metadata": {},
   "outputs": [],
   "source": [
    "!ls"
   ]
  },
  {
   "cell_type": "code",
   "execution_count": null,
   "metadata": {},
   "outputs": [],
   "source": [
    "!pwd"
   ]
  },
  {
   "cell_type": "markdown",
   "metadata": {},
   "source": [
    "Even cooler, we can get the results of these commands back in python:"
   ]
  },
  {
   "cell_type": "code",
   "execution_count": null,
   "metadata": {},
   "outputs": [],
   "source": [
    "l = !pwd\n",
    "print(l)\n",
    "print(l[0].split('/'))"
   ]
  },
  {
   "cell_type": "code",
   "execution_count": null,
   "metadata": {},
   "outputs": [],
   "source": [
    "l = !find ../\n",
    "print( len(l), l)"
   ]
  }
 ],
 "metadata": {
  "interpreter": {
   "hash": "5f6714e2aa3121d756e42b722ecdf75e634d845b1bdb25747afcfc86db983945"
  },
  "kernelspec": {
   "display_name": "Python 3.8.8 64-bit ('base': conda)",
   "name": "python3"
  },
  "language_info": {
   "codemirror_mode": {
    "name": "ipython",
    "version": 3
   },
   "file_extension": ".py",
   "mimetype": "text/x-python",
   "name": "python",
   "nbconvert_exporter": "python",
   "pygments_lexer": "ipython3",
   "version": "3.9.12"
  }
 },
 "nbformat": 4,
 "nbformat_minor": 2
}
